{
 "cells": [
  {
   "cell_type": "markdown",
   "metadata": {},
   "source": [
    "Objective\n",
    "To get who are our customer\n",
    "Explore all 3 datasets in Data folder\n",
    "\n",
    "Scenerio \n",
    "As a data analyst in Ebuy Emporium, a new e-commerce startup, since the employer start to have an active interest in their customer base.Who are their customers?\n",
    "What do they buy? What drives their purchasing behavior? However, before they do\n",
    "any serious analysis, they need to be able to count their customers\n",
    "\n",
    "Problem\n",
    "One problem is there are multiple sources of customer\n",
    "data, which are\n",
    "- The e-commerce platform’s customer database, where customer details are\n",
    "recorded when they sign up for an account online. This is where most of the\n",
    "customer details should be found.\n",
    "- The in-house CRM (customer relationship management) system, where customer\n",
    "details are recorded when they make a purchase over the phone or are\n",
    "otherwise onboarded as customers (except because of purchasing online with a\n",
    "registered account).\n",
    "- The raw transaction data, which we will hereafter refer to as “purchases” or\n",
    "“sales,” and which also contains purchases made “as a guest,” meaning customer\n",
    "records are not explicitly created at the time of purchase.\n",
    "- Another problem is that the existing data sources may not be mutually exclusive—\n",
    "there might be overlaps across them all. There is almost certainly some duplication,\n",
    "either because the same customer had their details entered into multiple systems or\n",
    "because they have made purchases both as a guest and with a registered account.\n",
    "Duplicate accounts may not contain exactly the same information; there may be typos\n",
    "or misspellings. These complications are why the startup needs the help of an analyst to\n",
    "answer their question: “Who are our customers?”\n",
    "\n",
    "Final Output \n",
    "A dataset containing one row per \"inferred customer entity\"."
   ]
  },
  {
   "cell_type": "code",
   "execution_count": 1,
   "metadata": {},
   "outputs": [],
   "source": [
    "import numpy as np\n",
    "import pandas as pd"
   ]
  },
  {
   "cell_type": "code",
   "execution_count": 2,
   "metadata": {},
   "outputs": [
    {
     "data": {
      "text/html": [
       "<div>\n",
       "<style scoped>\n",
       "    .dataframe tbody tr th:only-of-type {\n",
       "        vertical-align: middle;\n",
       "    }\n",
       "\n",
       "    .dataframe tbody tr th {\n",
       "        vertical-align: top;\n",
       "    }\n",
       "\n",
       "    .dataframe thead th {\n",
       "        text-align: right;\n",
       "    }\n",
       "</style>\n",
       "<table border=\"1\" class=\"dataframe\">\n",
       "  <thead>\n",
       "    <tr style=\"text-align: right;\">\n",
       "      <th></th>\n",
       "      <th>customer_id</th>\n",
       "      <th>first_name</th>\n",
       "      <th>surname</th>\n",
       "      <th>postcode</th>\n",
       "      <th>age</th>\n",
       "    </tr>\n",
       "  </thead>\n",
       "  <tbody>\n",
       "    <tr>\n",
       "      <th>0</th>\n",
       "      <td>29223</td>\n",
       "      <td>Holly</td>\n",
       "      <td>Rogers</td>\n",
       "      <td>LS475RT</td>\n",
       "      <td>12</td>\n",
       "    </tr>\n",
       "    <tr>\n",
       "      <th>1</th>\n",
       "      <td>27826</td>\n",
       "      <td>Daniel</td>\n",
       "      <td>Owen</td>\n",
       "      <td>M902XX</td>\n",
       "      <td>5</td>\n",
       "    </tr>\n",
       "    <tr>\n",
       "      <th>2</th>\n",
       "      <td>7432</td>\n",
       "      <td>Eleanor</td>\n",
       "      <td>Russell</td>\n",
       "      <td>HR904ZA</td>\n",
       "      <td>34</td>\n",
       "    </tr>\n",
       "    <tr>\n",
       "      <th>3</th>\n",
       "      <td>2569</td>\n",
       "      <td>Paige</td>\n",
       "      <td>Roberts</td>\n",
       "      <td>DE732EP</td>\n",
       "      <td>61</td>\n",
       "    </tr>\n",
       "    <tr>\n",
       "      <th>4</th>\n",
       "      <td>9195</td>\n",
       "      <td>Matilda</td>\n",
       "      <td>Young</td>\n",
       "      <td>LS670FU</td>\n",
       "      <td>78</td>\n",
       "    </tr>\n",
       "  </tbody>\n",
       "</table>\n",
       "</div>"
      ],
      "text/plain": [
       "   customer_id first_name  surname postcode  age\n",
       "0        29223      Holly   Rogers  LS475RT   12\n",
       "1        27826     Daniel     Owen   M902XX    5\n",
       "2         7432    Eleanor  Russell  HR904ZA   34\n",
       "3         2569      Paige  Roberts  DE732EP   61\n",
       "4         9195    Matilda    Young  LS670FU   78"
      ]
     },
     "execution_count": 2,
     "metadata": {},
     "output_type": "execute_result"
    }
   ],
   "source": [
    "data_from_crm=pd.read_csv('../data/crm_export.csv')\n",
    "data_from_crm.head()"
   ]
  },
  {
   "cell_type": "code",
   "execution_count": null,
   "metadata": {},
   "outputs": [],
   "source": []
  }
 ],
 "metadata": {
  "kernelspec": {
   "display_name": ".venv",
   "language": "python",
   "name": "python3"
  },
  "language_info": {
   "codemirror_mode": {
    "name": "ipython",
    "version": 3
   },
   "file_extension": ".py",
   "mimetype": "text/x-python",
   "name": "python",
   "nbconvert_exporter": "python",
   "pygments_lexer": "ipython3",
   "version": "3.11.7"
  }
 },
 "nbformat": 4,
 "nbformat_minor": 2
}
