{
 "cells": [
  {
   "cell_type": "code",
   "execution_count": 1,
   "metadata": {},
   "outputs": [],
   "source": [
    "import numpy as np\n",
    "import pandas as pd\n",
    "import matplotlib.pyplot as plt\n",
    "import seaborn as sns"
   ]
  },
  {
   "cell_type": "code",
   "execution_count": 2,
   "metadata": {},
   "outputs": [],
   "source": [
    "pd.set_option('future.no_silent_downcasting', True)\n"
   ]
  },
  {
   "cell_type": "markdown",
   "metadata": {},
   "source": [
    "### Data Dictionary: CRM and E-commerce Platform Customer Datasets\n",
    "\n",
    "The following data dictionary outlines the shared structure of customer datasets across the CRM and E-commerce platforms:\n",
    "\n",
    "| Column       | Definition                                |\n",
    "|--------------|-------------------------------------------|\n",
    "| `customer`   | The unique identifier for the customer.   |\n",
    "| `first_name` | The customer's first name.                |\n",
    "| `surname`    | The customer's last name.                 |\n",
    "| `postcode`   | The customer's postal code.               |\n",
    "| `age`        | The customer's age in years.              |\n"
   ]
  },
  {
   "cell_type": "code",
   "execution_count": 3,
   "metadata": {},
   "outputs": [
    {
     "name": "stdout",
     "output_type": "stream",
     "text": [
      "(7825, 5)\n"
     ]
    },
    {
     "data": {
      "text/html": [
       "<div>\n",
       "<style scoped>\n",
       "    .dataframe tbody tr th:only-of-type {\n",
       "        vertical-align: middle;\n",
       "    }\n",
       "\n",
       "    .dataframe tbody tr th {\n",
       "        vertical-align: top;\n",
       "    }\n",
       "\n",
       "    .dataframe thead th {\n",
       "        text-align: right;\n",
       "    }\n",
       "</style>\n",
       "<table border=\"1\" class=\"dataframe\">\n",
       "  <thead>\n",
       "    <tr style=\"text-align: right;\">\n",
       "      <th></th>\n",
       "      <th>customer_id</th>\n",
       "      <th>first_name</th>\n",
       "      <th>surname</th>\n",
       "      <th>postcode</th>\n",
       "      <th>age</th>\n",
       "    </tr>\n",
       "  </thead>\n",
       "  <tbody>\n",
       "    <tr>\n",
       "      <th>0</th>\n",
       "      <td>29223</td>\n",
       "      <td>Holly</td>\n",
       "      <td>Rogers</td>\n",
       "      <td>LS475RT</td>\n",
       "      <td>12</td>\n",
       "    </tr>\n",
       "    <tr>\n",
       "      <th>1</th>\n",
       "      <td>27826</td>\n",
       "      <td>Daniel</td>\n",
       "      <td>Owen</td>\n",
       "      <td>M902XX</td>\n",
       "      <td>5</td>\n",
       "    </tr>\n",
       "    <tr>\n",
       "      <th>2</th>\n",
       "      <td>7432</td>\n",
       "      <td>Eleanor</td>\n",
       "      <td>Russell</td>\n",
       "      <td>HR904ZA</td>\n",
       "      <td>34</td>\n",
       "    </tr>\n",
       "    <tr>\n",
       "      <th>3</th>\n",
       "      <td>2569</td>\n",
       "      <td>Paige</td>\n",
       "      <td>Roberts</td>\n",
       "      <td>DE732EP</td>\n",
       "      <td>61</td>\n",
       "    </tr>\n",
       "    <tr>\n",
       "      <th>4</th>\n",
       "      <td>9195</td>\n",
       "      <td>Matilda</td>\n",
       "      <td>Young</td>\n",
       "      <td>LS670FU</td>\n",
       "      <td>78</td>\n",
       "    </tr>\n",
       "  </tbody>\n",
       "</table>\n",
       "</div>"
      ],
      "text/plain": [
       "   customer_id first_name  surname postcode  age\n",
       "0        29223      Holly   Rogers  LS475RT   12\n",
       "1        27826     Daniel     Owen   M902XX    5\n",
       "2         7432    Eleanor  Russell  HR904ZA   34\n",
       "3         2569      Paige  Roberts  DE732EP   61\n",
       "4         9195    Matilda    Young  LS670FU   78"
      ]
     },
     "execution_count": 3,
     "metadata": {},
     "output_type": "execute_result"
    }
   ],
   "source": [
    "#customer data from Customer Relationship Management system\n",
    "data_from_crm=pd.read_csv('../data/crm_export.csv') \n",
    "print(data_from_crm.shape)\n",
    "data_from_crm.head()"
   ]
  },
  {
   "cell_type": "code",
   "execution_count": 4,
   "metadata": {},
   "outputs": [
    {
     "name": "stdout",
     "output_type": "stream",
     "text": [
      "<class 'pandas.core.frame.DataFrame'>\n",
      "RangeIndex: 7825 entries, 0 to 7824\n",
      "Data columns (total 5 columns):\n",
      " #   Column       Non-Null Count  Dtype \n",
      "---  ------       --------------  ----- \n",
      " 0   customer_id  7825 non-null   int64 \n",
      " 1   first_name   7825 non-null   object\n",
      " 2   surname      7825 non-null   object\n",
      " 3   postcode     7825 non-null   object\n",
      " 4   age          7825 non-null   int64 \n",
      "dtypes: int64(2), object(3)\n",
      "memory usage: 305.8+ KB\n",
      "None\n",
      "count    7825.000000\n",
      "mean       40.009968\n",
      "std        24.893072\n",
      "min         0.000000\n",
      "25%        21.000000\n",
      "50%        38.000000\n",
      "75%        56.000000\n",
      "max       100.000000\n",
      "Name: age, dtype: float64\n"
     ]
    }
   ],
   "source": [
    "print(data_from_crm.info())\n",
    "print(data_from_crm['age'].describe())"
   ]
  },
  {
   "cell_type": "code",
   "execution_count": 5,
   "metadata": {},
   "outputs": [
    {
     "data": {
      "text/plain": [
       "customer_id    117\n",
       "first_name     117\n",
       "surname        117\n",
       "postcode       117\n",
       "age            117\n",
       "dtype: int64"
      ]
     },
     "execution_count": 5,
     "metadata": {},
     "output_type": "execute_result"
    }
   ],
   "source": [
    "data_from_crm[data_from_crm['age']==0].count()"
   ]
  },
  {
   "cell_type": "markdown",
   "metadata": {},
   "source": [
    "### Interpretation:\n",
    "\n",
    "- The dataset contains **7,825 customers**.\n",
    "- The average customer age is approximately **40 years**, indicating a broad customer base across various age groups.\n",
    "- The standard deviation of approximately **25 years** suggests significant variability, meaning customer ages vary widely across the dataset.\n",
    "- Customer ages range from **0 to 100 years**, covering a complete span of possible ages.\n",
    "- The median age of **38 years** indicates that half of the customers are below this age, pointing towards a moderately younger customer segment.\n",
    "- The interquartile range (**21–56 years**) shows that 50% of customers fall within this age bracket, emphasizing a diverse age distribution.\n",
    "\n",
    "### Data Quality Note:\n",
    "\n",
    "- There are **117 customer records** where the age is recorded as **0**. It is highly likely these represent incorrectly filled or missing age data rather than genuine ages.  \n",
    "- **Recommendation:** Consider these records as missing or incorrect data entries, and perform further data validation or imputation before any detailed analysis or modeling.\n"
   ]
  },
  {
   "cell_type": "code",
   "execution_count": 6,
   "metadata": {},
   "outputs": [
    {
     "name": "stdout",
     "output_type": "stream",
     "text": [
      "(23476, 5)\n",
      "<class 'pandas.core.frame.DataFrame'>\n",
      "RangeIndex: 23476 entries, 0 to 23475\n",
      "Data columns (total 5 columns):\n",
      " #   Column       Non-Null Count  Dtype \n",
      "---  ------       --------------  ----- \n",
      " 0   customer_id  23476 non-null  int64 \n",
      " 1   first_name   23476 non-null  object\n",
      " 2   surname      23476 non-null  object\n",
      " 3   postcode     23476 non-null  object\n",
      " 4   age          23476 non-null  int64 \n",
      "dtypes: int64(2), object(3)\n",
      "memory usage: 917.2+ KB\n",
      "None\n"
     ]
    },
    {
     "data": {
      "text/html": [
       "<div>\n",
       "<style scoped>\n",
       "    .dataframe tbody tr th:only-of-type {\n",
       "        vertical-align: middle;\n",
       "    }\n",
       "\n",
       "    .dataframe tbody tr th {\n",
       "        vertical-align: top;\n",
       "    }\n",
       "\n",
       "    .dataframe thead th {\n",
       "        text-align: right;\n",
       "    }\n",
       "</style>\n",
       "<table border=\"1\" class=\"dataframe\">\n",
       "  <thead>\n",
       "    <tr style=\"text-align: right;\">\n",
       "      <th></th>\n",
       "      <th>customer_id</th>\n",
       "      <th>first_name</th>\n",
       "      <th>surname</th>\n",
       "      <th>postcode</th>\n",
       "      <th>age</th>\n",
       "    </tr>\n",
       "  </thead>\n",
       "  <tbody>\n",
       "    <tr>\n",
       "      <th>0</th>\n",
       "      <td>1641</td>\n",
       "      <td>Rhys</td>\n",
       "      <td>Richards</td>\n",
       "      <td>DE456EZ</td>\n",
       "      <td>45</td>\n",
       "    </tr>\n",
       "    <tr>\n",
       "      <th>1</th>\n",
       "      <td>24796</td>\n",
       "      <td>Maisie</td>\n",
       "      <td>Young</td>\n",
       "      <td>SW433XX</td>\n",
       "      <td>16</td>\n",
       "    </tr>\n",
       "    <tr>\n",
       "      <th>2</th>\n",
       "      <td>14358</td>\n",
       "      <td>Nathan</td>\n",
       "      <td>King</td>\n",
       "      <td>NW49TU</td>\n",
       "      <td>58</td>\n",
       "    </tr>\n",
       "    <tr>\n",
       "      <th>3</th>\n",
       "      <td>15306</td>\n",
       "      <td>Jack</td>\n",
       "      <td>Moore</td>\n",
       "      <td>NW908RR</td>\n",
       "      <td>26</td>\n",
       "    </tr>\n",
       "    <tr>\n",
       "      <th>4</th>\n",
       "      <td>24971</td>\n",
       "      <td>Alexander</td>\n",
       "      <td>Roberts</td>\n",
       "      <td>SW500HW</td>\n",
       "      <td>85</td>\n",
       "    </tr>\n",
       "  </tbody>\n",
       "</table>\n",
       "</div>"
      ],
      "text/plain": [
       "   customer_id first_name   surname postcode  age\n",
       "0         1641       Rhys  Richards  DE456EZ   45\n",
       "1        24796     Maisie     Young  SW433XX   16\n",
       "2        14358     Nathan      King   NW49TU   58\n",
       "3        15306       Jack     Moore  NW908RR   26\n",
       "4        24971  Alexander   Roberts  SW500HW   85"
      ]
     },
     "execution_count": 6,
     "metadata": {},
     "output_type": "execute_result"
    }
   ],
   "source": [
    "#customer data from ecommerance platform\n",
    "data_from_ecommerance_platform=pd.read_csv('../data/customer_database.csv') \n",
    "print(data_from_ecommerance_platform.shape)\n",
    "print(data_from_ecommerance_platform.info())\n",
    "data_from_ecommerance_platform.head()"
   ]
  },
  {
   "cell_type": "code",
   "execution_count": 7,
   "metadata": {},
   "outputs": [
    {
     "name": "stdout",
     "output_type": "stream",
     "text": [
      "        customer_id           age\n",
      "count  23476.000000  23476.000000\n",
      "mean   17195.245826     39.858281\n",
      "std     9734.124201     24.814917\n",
      "min        1.000000      0.000000\n",
      "25%     8729.750000     21.000000\n",
      "50%    17370.500000     38.000000\n",
      "75%    25960.500000     56.000000\n",
      "max    33281.000000    101.000000\n",
      "customer_id    331\n",
      "first_name     331\n",
      "surname        331\n",
      "postcode       331\n",
      "age            331\n",
      "dtype: int64\n"
     ]
    }
   ],
   "source": [
    "print(data_from_ecommerance_platform.describe())\n",
    "print(data_from_ecommerance_platform[data_from_ecommerance_platform['age']==0].count())"
   ]
  },
  {
   "cell_type": "code",
   "execution_count": 8,
   "metadata": {},
   "outputs": [],
   "source": [
    "for col in ['first_name', 'surname']:\n",
    "    data_from_ecommerance_platform[col] = data_from_ecommerance_platform[col].str.lower().str.strip()\n",
    "data_from_ecommerance_platform['postcode']=data_from_ecommerance_platform['postcode'].str.strip()"
   ]
  },
  {
   "cell_type": "code",
   "execution_count": 9,
   "metadata": {},
   "outputs": [
    {
     "data": {
      "text/plain": [
       "np.int64(0)"
      ]
     },
     "execution_count": 9,
     "metadata": {},
     "output_type": "execute_result"
    }
   ],
   "source": [
    "data_from_ecommerance_platform.groupby('customer_id').size().loc[lambda x: x > 1].count()\n"
   ]
  },
  {
   "cell_type": "code",
   "execution_count": 10,
   "metadata": {},
   "outputs": [
    {
     "name": "stdout",
     "output_type": "stream",
     "text": [
      "(19889, 4)\n"
     ]
    }
   ],
   "source": [
    "unique_ecommerance_customers = data_from_ecommerance_platform.drop(columns='customer_id').drop_duplicates()\n",
    "print(unique_ecommerance_customers.shape)"
   ]
  },
  {
   "cell_type": "markdown",
   "metadata": {},
   "source": [
    "### Interpretation:\n",
    "\n",
    "- The dataset contains **23,476 customer records**.\n",
    "- Among 23,476 customer ids, only **19,889 unique combinations of customer details.**\n",
    "- Around **3,500 duplicates** to handle\n",
    "- The average customer age is approximately **40 years**, indicating broad representation across age groups.\n",
    "- A standard deviation of approximately **25 years** shows substantial age variation among customers.\n",
    "- Customer ages range from **0 to 101 years**, indicating complete coverage of possible customer age groups.\n",
    "- The median age (**38 years**) indicates a younger-to-middle-aged customer base, with half of the customers younger and half older.\n",
    "- The interquartile range (**21–56 years**) demonstrates that half of the customers fall within this age interval, signifying a wide and diverse age distribution.\n",
    "\n",
    "### Data Quality Note:\n",
    "\n",
    "- **331 customer records** have an age recorded as **0**, indicating potential inaccuracies or missing age information.\n",
    "- It is recommended to investigate or exclude these records from age-related analyses to ensure data accuracy.\n",
    "\n",
    "This analysis helps underscore the necessity for careful data cleaning prior to further analytics or modeling.\n"
   ]
  },
  {
   "cell_type": "code",
   "execution_count": 11,
   "metadata": {},
   "outputs": [
    {
     "data": {
      "image/png": "[encoded data removed]",
      "text/plain": [
       "<Figure size 1920x720 with 2 Axes>"
      ]
     },
     "metadata": {},
     "output_type": "display_data"
    }
   ],
   "source": [
    "# Apply a modernized plotting style\n",
    "plt.style.use('ggplot')\n",
    "\n",
    "# Set figure size and resolution\n",
    "fig, axes = plt.subplots(1, 2, figsize=(16, 6), dpi=120)\n",
    "\n",
    "# Plot for CRM data\n",
    "sns.histplot(data_from_crm['age'], bins=20, kde=True, color='#4a90e2', ax=axes[0])\n",
    "axes[0].set_title('CRM Platform: Age Distribution', fontsize=14, fontweight='bold', pad=15)\n",
    "axes[0].set_xlabel('Age', fontsize=12)\n",
    "axes[0].set_ylabel('Number of Customers', fontsize=12)\n",
    "axes[0].tick_params(axis='both', labelsize=11)\n",
    "axes[0].grid(axis='y', alpha=0.4)\n",
    "\n",
    "# Plot for E-commerce data\n",
    "sns.histplot(data_from_ecommerance_platform['age'], bins=20, kde=True, color='#4a90e2', ax=axes[1])\n",
    "axes[1].set_title('E-commerce Platform: Age Distribution', fontsize=14, fontweight='bold', pad=15)\n",
    "axes[1].set_xlabel('Age', fontsize=12)\n",
    "axes[1].set_ylabel('Number of Customers', fontsize=12)\n",
    "\n",
    "# Adjust ticks and layout\n",
    "for ax in axes:\n",
    "    ax.tick_params(axis='both', labelsize=11)\n",
    "    ax.grid(axis='y', alpha=0.5)\n",
    "\n",
    "sns.despine(trim=True)\n",
    "plt.tight_layout()\n",
    "plt.show()\n"
   ]
  },
  {
   "cell_type": "code",
   "execution_count": 12,
   "metadata": {},
   "outputs": [
    {
     "name": "stdout",
     "output_type": "stream",
     "text": [
      "(71519, 11)\n"
     ]
    },
    {
     "data": {
      "text/html": [
       "<div>\n",
       "<style scoped>\n",
       "    .dataframe tbody tr th:only-of-type {\n",
       "        vertical-align: middle;\n",
       "    }\n",
       "\n",
       "    .dataframe tbody tr th {\n",
       "        vertical-align: top;\n",
       "    }\n",
       "\n",
       "    .dataframe thead th {\n",
       "        text-align: right;\n",
       "    }\n",
       "</style>\n",
       "<table border=\"1\" class=\"dataframe\">\n",
       "  <thead>\n",
       "    <tr style=\"text-align: right;\">\n",
       "      <th></th>\n",
       "      <th>event_time</th>\n",
       "      <th>product_id</th>\n",
       "      <th>category_id</th>\n",
       "      <th>category_code</th>\n",
       "      <th>brand</th>\n",
       "      <th>price</th>\n",
       "      <th>session_id</th>\n",
       "      <th>customer_id</th>\n",
       "      <th>guest_first_name</th>\n",
       "      <th>guest_surname</th>\n",
       "      <th>guest_postcode</th>\n",
       "    </tr>\n",
       "  </thead>\n",
       "  <tbody>\n",
       "    <tr>\n",
       "      <th>0</th>\n",
       "      <td>2022-10-01 02:26:08+00:00</td>\n",
       "      <td>32701106</td>\n",
       "      <td>2055156924466332447</td>\n",
       "      <td>NaN</td>\n",
       "      <td>shimano</td>\n",
       "      <td>95.21</td>\n",
       "      <td>64c68405-7002-4ce0-9604-a4c2e1f7384b</td>\n",
       "      <td>NaN</td>\n",
       "      <td>MICHAEL</td>\n",
       "      <td>MASON</td>\n",
       "      <td>RG497ZQ</td>\n",
       "    </tr>\n",
       "    <tr>\n",
       "      <th>1</th>\n",
       "      <td>2022-10-01 02:28:32+00:00</td>\n",
       "      <td>9400066</td>\n",
       "      <td>2053013566067311601</td>\n",
       "      <td>NaN</td>\n",
       "      <td>jaguar</td>\n",
       "      <td>164.20</td>\n",
       "      <td>3b7d6741-3c82-4c75-8015-6f54b52612e0</td>\n",
       "      <td>7466.0</td>\n",
       "      <td>NaN</td>\n",
       "      <td>NaN</td>\n",
       "      <td>NaN</td>\n",
       "    </tr>\n",
       "    <tr>\n",
       "      <th>2</th>\n",
       "      <td>2022-10-01 02:31:01+00:00</td>\n",
       "      <td>1004238</td>\n",
       "      <td>2053013555631882655</td>\n",
       "      <td>electronics.smartphone</td>\n",
       "      <td>apple</td>\n",
       "      <td>1206.40</td>\n",
       "      <td>38c6d3f7-6c32-4fed-bca6-ef98e1746386</td>\n",
       "      <td>NaN</td>\n",
       "      <td>COLE</td>\n",
       "      <td>WILKINSON</td>\n",
       "      <td>SW75TQ</td>\n",
       "    </tr>\n",
       "    <tr>\n",
       "      <th>3</th>\n",
       "      <td>2022-10-01 02:33:31+00:00</td>\n",
       "      <td>11300059</td>\n",
       "      <td>2053013555531219353</td>\n",
       "      <td>electronics.telephone</td>\n",
       "      <td>texet</td>\n",
       "      <td>17.48</td>\n",
       "      <td>3398c966-7846-4186-89be-323daad735b9</td>\n",
       "      <td>NaN</td>\n",
       "      <td>MOHAMMED</td>\n",
       "      <td>RICHARDS</td>\n",
       "      <td>RG150RE</td>\n",
       "    </tr>\n",
       "    <tr>\n",
       "      <th>4</th>\n",
       "      <td>2022-10-01 02:40:18+00:00</td>\n",
       "      <td>17300751</td>\n",
       "      <td>2053013553853497655</td>\n",
       "      <td>NaN</td>\n",
       "      <td>versace</td>\n",
       "      <td>77.22</td>\n",
       "      <td>11e3a573-01b9-4794-b513-e7d8a4fcac83</td>\n",
       "      <td>31266.0</td>\n",
       "      <td>NaN</td>\n",
       "      <td>NaN</td>\n",
       "      <td>NaN</td>\n",
       "    </tr>\n",
       "  </tbody>\n",
       "</table>\n",
       "</div>"
      ],
      "text/plain": [
       "                  event_time  product_id          category_id  \\\n",
       "0  2022-10-01 02:26:08+00:00    32701106  2055156924466332447   \n",
       "1  2022-10-01 02:28:32+00:00     9400066  2053013566067311601   \n",
       "2  2022-10-01 02:31:01+00:00     1004238  2053013555631882655   \n",
       "3  2022-10-01 02:33:31+00:00    11300059  2053013555531219353   \n",
       "4  2022-10-01 02:40:18+00:00    17300751  2053013553853497655   \n",
       "\n",
       "            category_code    brand    price  \\\n",
       "0                     NaN  shimano    95.21   \n",
       "1                     NaN   jaguar   164.20   \n",
       "2  electronics.smartphone    apple  1206.40   \n",
       "3   electronics.telephone    texet    17.48   \n",
       "4                     NaN  versace    77.22   \n",
       "\n",
       "                             session_id  customer_id guest_first_name  \\\n",
       "0  64c68405-7002-4ce0-9604-a4c2e1f7384b          NaN          MICHAEL   \n",
       "1  3b7d6741-3c82-4c75-8015-6f54b52612e0       7466.0              NaN   \n",
       "2  38c6d3f7-6c32-4fed-bca6-ef98e1746386          NaN             COLE   \n",
       "3  3398c966-7846-4186-89be-323daad735b9          NaN         MOHAMMED   \n",
       "4  11e3a573-01b9-4794-b513-e7d8a4fcac83      31266.0              NaN   \n",
       "\n",
       "  guest_surname guest_postcode  \n",
       "0         MASON        RG497ZQ  \n",
       "1           NaN            NaN  \n",
       "2     WILKINSON         SW75TQ  \n",
       "3      RICHARDS        RG150RE  \n",
       "4           NaN            NaN  "
      ]
     },
     "execution_count": 12,
     "metadata": {},
     "output_type": "execute_result"
    }
   ],
   "source": [
    "raw_trasaction_data=pd.read_csv('../data/purchases.csv')\n",
    "print(raw_trasaction_data.shape)\n",
    "raw_trasaction_data.head()"
   ]
  },
  {
   "cell_type": "code",
   "execution_count": 13,
   "metadata": {},
   "outputs": [
    {
     "data": {
      "text/plain": [
       "event_time              0\n",
       "product_id              0\n",
       "category_id             0\n",
       "category_code       16739\n",
       "brand                5707\n",
       "price                   0\n",
       "session_id              0\n",
       "customer_id         18448\n",
       "guest_first_name    53071\n",
       "guest_surname       53071\n",
       "guest_postcode      53071\n",
       "dtype: int64"
      ]
     },
     "execution_count": 13,
     "metadata": {},
     "output_type": "execute_result"
    }
   ],
   "source": [
    "# Check for missing values in purchase data\n",
    "raw_trasaction_data.isnull().sum()"
   ]
  },
  {
   "cell_type": "markdown",
   "metadata": {},
   "source": [
    "There are 18,448 missing customer IDs, which should relate to guest checkouts, and 53,071 missing guest values. Adding those up gives us 71,519, which is the total number of records, meaning that guest checkouts and registered user checkouts make up our entire dataset. There are seemingly no rows with either all this information missing\n",
    "or both being present, but we should verify this. First, let’s create a new column to track guest checkouts, which happen when a customer ID is not provided:"
   ]
  },
  {
   "cell_type": "code",
   "execution_count": 14,
   "metadata": {},
   "outputs": [
    {
     "data": {
      "text/html": [
       "<div>\n",
       "<style scoped>\n",
       "    .dataframe tbody tr th:only-of-type {\n",
       "        vertical-align: middle;\n",
       "    }\n",
       "\n",
       "    .dataframe tbody tr th {\n",
       "        vertical-align: top;\n",
       "    }\n",
       "\n",
       "    .dataframe thead th {\n",
       "        text-align: right;\n",
       "    }\n",
       "</style>\n",
       "<table border=\"1\" class=\"dataframe\">\n",
       "  <thead>\n",
       "    <tr style=\"text-align: right;\">\n",
       "      <th></th>\n",
       "      <th>event_time</th>\n",
       "      <th>product_id</th>\n",
       "      <th>category_id</th>\n",
       "      <th>category_code</th>\n",
       "      <th>brand</th>\n",
       "      <th>price</th>\n",
       "      <th>session_id</th>\n",
       "      <th>customer_id</th>\n",
       "      <th>guest_first_name</th>\n",
       "      <th>guest_surname</th>\n",
       "      <th>guest_postcode</th>\n",
       "      <th>is_guest</th>\n",
       "    </tr>\n",
       "  </thead>\n",
       "  <tbody>\n",
       "    <tr>\n",
       "      <th>0</th>\n",
       "      <td>2022-10-01 02:26:08+00:00</td>\n",
       "      <td>32701106</td>\n",
       "      <td>2055156924466332447</td>\n",
       "      <td>NaN</td>\n",
       "      <td>shimano</td>\n",
       "      <td>95.21</td>\n",
       "      <td>64c68405-7002-4ce0-9604-a4c2e1f7384b</td>\n",
       "      <td>NaN</td>\n",
       "      <td>MICHAEL</td>\n",
       "      <td>MASON</td>\n",
       "      <td>RG497ZQ</td>\n",
       "      <td>True</td>\n",
       "    </tr>\n",
       "    <tr>\n",
       "      <th>1</th>\n",
       "      <td>2022-10-01 02:28:32+00:00</td>\n",
       "      <td>9400066</td>\n",
       "      <td>2053013566067311601</td>\n",
       "      <td>NaN</td>\n",
       "      <td>jaguar</td>\n",
       "      <td>164.20</td>\n",
       "      <td>3b7d6741-3c82-4c75-8015-6f54b52612e0</td>\n",
       "      <td>7466.0</td>\n",
       "      <td>NaN</td>\n",
       "      <td>NaN</td>\n",
       "      <td>NaN</td>\n",
       "      <td>False</td>\n",
       "    </tr>\n",
       "    <tr>\n",
       "      <th>2</th>\n",
       "      <td>2022-10-01 02:31:01+00:00</td>\n",
       "      <td>1004238</td>\n",
       "      <td>2053013555631882655</td>\n",
       "      <td>electronics.smartphone</td>\n",
       "      <td>apple</td>\n",
       "      <td>1206.40</td>\n",
       "      <td>38c6d3f7-6c32-4fed-bca6-ef98e1746386</td>\n",
       "      <td>NaN</td>\n",
       "      <td>COLE</td>\n",
       "      <td>WILKINSON</td>\n",
       "      <td>SW75TQ</td>\n",
       "      <td>True</td>\n",
       "    </tr>\n",
       "    <tr>\n",
       "      <th>3</th>\n",
       "      <td>2022-10-01 02:33:31+00:00</td>\n",
       "      <td>11300059</td>\n",
       "      <td>2053013555531219353</td>\n",
       "      <td>electronics.telephone</td>\n",
       "      <td>texet</td>\n",
       "      <td>17.48</td>\n",
       "      <td>3398c966-7846-4186-89be-323daad735b9</td>\n",
       "      <td>NaN</td>\n",
       "      <td>MOHAMMED</td>\n",
       "      <td>RICHARDS</td>\n",
       "      <td>RG150RE</td>\n",
       "      <td>True</td>\n",
       "    </tr>\n",
       "    <tr>\n",
       "      <th>4</th>\n",
       "      <td>2022-10-01 02:40:18+00:00</td>\n",
       "      <td>17300751</td>\n",
       "      <td>2053013553853497655</td>\n",
       "      <td>NaN</td>\n",
       "      <td>versace</td>\n",
       "      <td>77.22</td>\n",
       "      <td>11e3a573-01b9-4794-b513-e7d8a4fcac83</td>\n",
       "      <td>31266.0</td>\n",
       "      <td>NaN</td>\n",
       "      <td>NaN</td>\n",
       "      <td>NaN</td>\n",
       "      <td>False</td>\n",
       "    </tr>\n",
       "  </tbody>\n",
       "</table>\n",
       "</div>"
      ],
      "text/plain": [
       "                  event_time  product_id          category_id  \\\n",
       "0  2022-10-01 02:26:08+00:00    32701106  2055156924466332447   \n",
       "1  2022-10-01 02:28:32+00:00     9400066  2053013566067311601   \n",
       "2  2022-10-01 02:31:01+00:00     1004238  2053013555631882655   \n",
       "3  2022-10-01 02:33:31+00:00    11300059  2053013555531219353   \n",
       "4  2022-10-01 02:40:18+00:00    17300751  2053013553853497655   \n",
       "\n",
       "            category_code    brand    price  \\\n",
       "0                     NaN  shimano    95.21   \n",
       "1                     NaN   jaguar   164.20   \n",
       "2  electronics.smartphone    apple  1206.40   \n",
       "3   electronics.telephone    texet    17.48   \n",
       "4                     NaN  versace    77.22   \n",
       "\n",
       "                             session_id  customer_id guest_first_name  \\\n",
       "0  64c68405-7002-4ce0-9604-a4c2e1f7384b          NaN          MICHAEL   \n",
       "1  3b7d6741-3c82-4c75-8015-6f54b52612e0       7466.0              NaN   \n",
       "2  38c6d3f7-6c32-4fed-bca6-ef98e1746386          NaN             COLE   \n",
       "3  3398c966-7846-4186-89be-323daad735b9          NaN         MOHAMMED   \n",
       "4  11e3a573-01b9-4794-b513-e7d8a4fcac83      31266.0              NaN   \n",
       "\n",
       "  guest_surname guest_postcode  is_guest  \n",
       "0         MASON        RG497ZQ      True  \n",
       "1           NaN            NaN     False  \n",
       "2     WILKINSON         SW75TQ      True  \n",
       "3      RICHARDS        RG150RE      True  \n",
       "4           NaN            NaN     False  "
      ]
     },
     "execution_count": 14,
     "metadata": {},
     "output_type": "execute_result"
    }
   ],
   "source": [
    "raw_trasaction_data['is_guest']=raw_trasaction_data['customer_id'].isnull()\n",
    "raw_trasaction_data.head()"
   ]
  },
  {
   "cell_type": "markdown",
   "metadata": {},
   "source": [
    "***To check whether guest and registered user checkouts overlap***"
   ]
  },
  {
   "cell_type": "code",
   "execution_count": 15,
   "metadata": {},
   "outputs": [
    {
     "data": {
      "text/html": [
       "<div>\n",
       "<style scoped>\n",
       "    .dataframe tbody tr th:only-of-type {\n",
       "        vertical-align: middle;\n",
       "    }\n",
       "\n",
       "    .dataframe tbody tr th {\n",
       "        vertical-align: top;\n",
       "    }\n",
       "\n",
       "    .dataframe thead th {\n",
       "        text-align: right;\n",
       "    }\n",
       "</style>\n",
       "<table border=\"1\" class=\"dataframe\">\n",
       "  <thead>\n",
       "    <tr style=\"text-align: right;\">\n",
       "      <th></th>\n",
       "      <th>event_time</th>\n",
       "      <th>product_id</th>\n",
       "      <th>category_id</th>\n",
       "      <th>category_code</th>\n",
       "      <th>brand</th>\n",
       "      <th>price</th>\n",
       "      <th>session_id</th>\n",
       "      <th>customer_id</th>\n",
       "      <th>guest_first_name</th>\n",
       "      <th>guest_surname</th>\n",
       "      <th>guest_postcode</th>\n",
       "      <th>is_guest</th>\n",
       "    </tr>\n",
       "  </thead>\n",
       "  <tbody>\n",
       "  </tbody>\n",
       "</table>\n",
       "</div>"
      ],
      "text/plain": [
       "Empty DataFrame\n",
       "Columns: [event_time, product_id, category_id, category_code, brand, price, session_id, customer_id, guest_first_name, guest_surname, guest_postcode, is_guest]\n",
       "Index: []"
      ]
     },
     "execution_count": 15,
     "metadata": {},
     "output_type": "execute_result"
    }
   ],
   "source": [
    "raw_trasaction_data[raw_trasaction_data['is_guest']&raw_trasaction_data['customer_id'].notnull()]\n"
   ]
  },
  {
   "cell_type": "code",
   "execution_count": 16,
   "metadata": {},
   "outputs": [
    {
     "data": {
      "text/html": [
       "<div>\n",
       "<style scoped>\n",
       "    .dataframe tbody tr th:only-of-type {\n",
       "        vertical-align: middle;\n",
       "    }\n",
       "\n",
       "    .dataframe tbody tr th {\n",
       "        vertical-align: top;\n",
       "    }\n",
       "\n",
       "    .dataframe thead th {\n",
       "        text-align: right;\n",
       "    }\n",
       "</style>\n",
       "<table border=\"1\" class=\"dataframe\">\n",
       "  <thead>\n",
       "    <tr style=\"text-align: right;\">\n",
       "      <th></th>\n",
       "      <th>event_time</th>\n",
       "      <th>product_id</th>\n",
       "      <th>category_id</th>\n",
       "      <th>category_code</th>\n",
       "      <th>brand</th>\n",
       "      <th>price</th>\n",
       "      <th>session_id</th>\n",
       "      <th>customer_id</th>\n",
       "      <th>guest_first_name</th>\n",
       "      <th>guest_surname</th>\n",
       "      <th>guest_postcode</th>\n",
       "      <th>is_guest</th>\n",
       "    </tr>\n",
       "  </thead>\n",
       "  <tbody>\n",
       "  </tbody>\n",
       "</table>\n",
       "</div>"
      ],
      "text/plain": [
       "Empty DataFrame\n",
       "Columns: [event_time, product_id, category_id, category_code, brand, price, session_id, customer_id, guest_first_name, guest_surname, guest_postcode, is_guest]\n",
       "Index: []"
      ]
     },
     "execution_count": 16,
     "metadata": {},
     "output_type": "execute_result"
    }
   ],
   "source": [
    "raw_trasaction_data[(raw_trasaction_data['is_guest']==False)&(raw_trasaction_data['customer_id'].isnull())]"
   ]
  },
  {
   "cell_type": "markdown",
   "metadata": {},
   "source": [
    "***Checking what percentage of records are guest checkouts to get a sense of how many customer records we will have to infer***"
   ]
  },
  {
   "cell_type": "code",
   "execution_count": 17,
   "metadata": {},
   "outputs": [
    {
     "data": {
      "text/plain": [
       "is_guest\n",
       "False    0.742055\n",
       "True     0.257945\n",
       "Name: proportion, dtype: float64"
      ]
     },
     "execution_count": 17,
     "metadata": {},
     "output_type": "execute_result"
    }
   ],
   "source": [
    "raw_trasaction_data['is_guest'].value_counts(normalize=True)"
   ]
  },
  {
   "cell_type": "markdown",
   "metadata": {},
   "source": [
    "This tells us that 25% of the rows are guest checkouts, but **one row represents a purchased item**, ***not a customer record***, so the proportion of customers who checked out as guests is not necessarily 25%. To calculate this actual proportion"
   ]
  },
  {
   "cell_type": "code",
   "execution_count": 18,
   "metadata": {},
   "outputs": [
    {
     "name": "stdout",
     "output_type": "stream",
     "text": [
      "8301\n"
     ]
    }
   ],
   "source": [
    "guest_column=['guest_first_name', 'guest_surname','guest_postcode']\n",
    "unique_guests=raw_trasaction_data[guest_column].drop_duplicates()\n",
    "print(len(unique_guests))"
   ]
  },
  {
   "cell_type": "code",
   "execution_count": 19,
   "metadata": {},
   "outputs": [
    {
     "name": "stdout",
     "output_type": "stream",
     "text": [
      "24961\n"
     ]
    }
   ],
   "source": [
    "unique_registered_customers=raw_trasaction_data['customer_id'].nunique()  \n",
    "print(unique_registered_customers)"
   ]
  },
  {
   "cell_type": "code",
   "execution_count": 20,
   "metadata": {},
   "outputs": [
    {
     "name": "stdout",
     "output_type": "stream",
     "text": [
      "33261\n"
     ]
    }
   ],
   "source": [
    "total_customer=len(unique_guests)+unique_registered_customers-1\n",
    "print(total_customer)"
   ]
  },
  {
   "cell_type": "markdown",
   "metadata": {},
   "source": [
    "### Unified Data Model Schema for Customer Data\n",
    "\n",
    "To effectively combine and analyze data from multiple sources (purchases, customer database, and CRM), it is essential to design a data structure that accurately tracks the origin of each customer record.\n",
    "\n",
    "Initially, considering adding a single column indicating the data source (e.g., \"purchase,\" \"customer database,\" or \"CRM\")looks good. However, this approach assumes that each record originates from only one source, potentially causing issues when a customer appears in multiple datasets.\n",
    "\n",
    "To address possible duplication clearly and efficiently, it is recommended to use **indicator columns** for each data source. These columns explicitly show whether each customer record exists within a specific dataset. Additionally, tracking guest checkouts separately is crucial because stakeholders may later inquire about metrics such as: **\"What percentage of customers don’t register when purchasing?\"**\n",
    "\n",
    "##### Recommended Data Model Schema:\n",
    "\n",
    "All customer data sources should be transformed into the following unified schema:\n",
    "\n",
    "| Column             | Description                                                            |\n",
    "|--------------------|------------------------------------------------------------------------|\n",
    "| `customer_id`      | Unique identifier of the customer; set as `NULL` for guest checkouts.  |\n",
    "| `first_name`       | Customer’s first name from CRM, customer database, or guest checkout.  |\n",
    "| `surname`          | Customer’s surname from CRM, customer database, or guest checkout.     |\n",
    "| `postcode`         | Postal code from CRM, customer database, or guest checkout.            |\n",
    "| `age`              | Customer's age from CRM or customer database; unavailable for guests.  |\n",
    "| `is_guest`         | `True` if the record originates from a guest checkout.                 |\n",
    "| `in_purchase_data` | `True` if the customer record appears in purchase transactions. (Not exclusive; a customer may also appear in other datasets.) |\n",
    "| `in_crm_data`      | `True` if the customer record is present in the CRM database.          |\n",
    "| `in_customer_data` | `True` if the customer record exists in the customer database.         |\n",
    "\n",
    "This schema provides clarity on customer record sources and supports comprehensive analysis and reporting.\n"
   ]
  },
  {
   "cell_type": "code",
   "execution_count": 21,
   "metadata": {},
   "outputs": [
    {
     "name": "stdout",
     "output_type": "stream",
     "text": [
      "   guest_first_name guest_surname guest_postcode  is_guest\n",
      "0           MICHAEL         MASON        RG497ZQ      True\n",
      "2              COLE     WILKINSON         SW75TQ      True\n",
      "3          MOHAMMED      RICHARDS        RG150RE      True\n",
      "7              KIAN         MILLS        SW332TF      True\n",
      "13             RUBY          OWEN        PO377YS      True\n",
      "(8300, 4)\n"
     ]
    }
   ],
   "source": [
    "guest_columns=['guest_first_name','guest_surname','guest_postcode','is_guest']\n",
    "guests=raw_trasaction_data.loc[raw_trasaction_data['is_guest'],guest_columns]\n",
    "guests.drop_duplicates(inplace=True)\n",
    "print(guests.head())\n",
    "print(guests.shape)"
   ]
  },
  {
   "cell_type": "code",
   "execution_count": 22,
   "metadata": {},
   "outputs": [
    {
     "name": "stdout",
     "output_type": "stream",
     "text": [
      "(24961, 1)\n"
     ]
    },
    {
     "data": {
      "text/html": [
       "<div>\n",
       "<style scoped>\n",
       "    .dataframe tbody tr th:only-of-type {\n",
       "        vertical-align: middle;\n",
       "    }\n",
       "\n",
       "    .dataframe tbody tr th {\n",
       "        vertical-align: top;\n",
       "    }\n",
       "\n",
       "    .dataframe thead th {\n",
       "        text-align: right;\n",
       "    }\n",
       "</style>\n",
       "<table border=\"1\" class=\"dataframe\">\n",
       "  <thead>\n",
       "    <tr style=\"text-align: right;\">\n",
       "      <th></th>\n",
       "      <th>customer_id</th>\n",
       "    </tr>\n",
       "  </thead>\n",
       "  <tbody>\n",
       "    <tr>\n",
       "      <th>0</th>\n",
       "      <td>7466</td>\n",
       "    </tr>\n",
       "    <tr>\n",
       "      <th>1</th>\n",
       "      <td>31266</td>\n",
       "    </tr>\n",
       "    <tr>\n",
       "      <th>2</th>\n",
       "      <td>534142828</td>\n",
       "    </tr>\n",
       "    <tr>\n",
       "      <th>3</th>\n",
       "      <td>1035</td>\n",
       "    </tr>\n",
       "    <tr>\n",
       "      <th>4</th>\n",
       "      <td>6985</td>\n",
       "    </tr>\n",
       "  </tbody>\n",
       "</table>\n",
       "</div>"
      ],
      "text/plain": [
       "   customer_id\n",
       "0         7466\n",
       "1        31266\n",
       "2    534142828\n",
       "3         1035\n",
       "4         6985"
      ]
     },
     "execution_count": 22,
     "metadata": {},
     "output_type": "execute_result"
    }
   ],
   "source": [
    "non_guests=raw_trasaction_data.loc[raw_trasaction_data['customer_id'].notnull(),'customer_id'].unique().astype(int) #Extracting unique customer IDs from the non-guests\n",
    "non_guests=pd.DataFrame(non_guests,columns=['customer_id']) #Customer ID is a single column,so we need to explicitly make it a DataFrame.\n",
    "print(non_guests.shape)\n",
    "non_guests.head()"
   ]
  },
  {
   "cell_type": "code",
   "execution_count": 23,
   "metadata": {},
   "outputs": [
    {
     "name": "stdout",
     "output_type": "stream",
     "text": [
      "(33261, 5)\n"
     ]
    },
    {
     "data": {
      "text/html": [
       "<div>\n",
       "<style scoped>\n",
       "    .dataframe tbody tr th:only-of-type {\n",
       "        vertical-align: middle;\n",
       "    }\n",
       "\n",
       "    .dataframe tbody tr th {\n",
       "        vertical-align: top;\n",
       "    }\n",
       "\n",
       "    .dataframe thead th {\n",
       "        text-align: right;\n",
       "    }\n",
       "</style>\n",
       "<table border=\"1\" class=\"dataframe\">\n",
       "  <thead>\n",
       "    <tr style=\"text-align: right;\">\n",
       "      <th></th>\n",
       "      <th>customer_id</th>\n",
       "      <th>guest_first_name</th>\n",
       "      <th>guest_surname</th>\n",
       "      <th>guest_postcode</th>\n",
       "      <th>is_guest</th>\n",
       "    </tr>\n",
       "  </thead>\n",
       "  <tbody>\n",
       "    <tr>\n",
       "      <th>33256</th>\n",
       "      <td>NaN</td>\n",
       "      <td>POPPY</td>\n",
       "      <td>FOSTER</td>\n",
       "      <td>M192EQ</td>\n",
       "      <td>True</td>\n",
       "    </tr>\n",
       "    <tr>\n",
       "      <th>33257</th>\n",
       "      <td>NaN</td>\n",
       "      <td>SOPHIE</td>\n",
       "      <td>CHAPMAN</td>\n",
       "      <td>NW500AS</td>\n",
       "      <td>True</td>\n",
       "    </tr>\n",
       "    <tr>\n",
       "      <th>33258</th>\n",
       "      <td>NaN</td>\n",
       "      <td>SCARLETT</td>\n",
       "      <td>SHAW</td>\n",
       "      <td>EX86QS</td>\n",
       "      <td>True</td>\n",
       "    </tr>\n",
       "    <tr>\n",
       "      <th>33259</th>\n",
       "      <td>NaN</td>\n",
       "      <td>MICHAEL</td>\n",
       "      <td>HARRISON</td>\n",
       "      <td>HR280TG</td>\n",
       "      <td>True</td>\n",
       "    </tr>\n",
       "    <tr>\n",
       "      <th>33260</th>\n",
       "      <td>NaN</td>\n",
       "      <td>SKYE</td>\n",
       "      <td>GREEN</td>\n",
       "      <td>HR478ER</td>\n",
       "      <td>True</td>\n",
       "    </tr>\n",
       "  </tbody>\n",
       "</table>\n",
       "</div>"
      ],
      "text/plain": [
       "       customer_id guest_first_name guest_surname guest_postcode is_guest\n",
       "33256          NaN            POPPY        FOSTER         M192EQ     True\n",
       "33257          NaN           SOPHIE       CHAPMAN        NW500AS     True\n",
       "33258          NaN         SCARLETT          SHAW         EX86QS     True\n",
       "33259          NaN          MICHAEL      HARRISON        HR280TG     True\n",
       "33260          NaN             SKYE         GREEN        HR478ER     True"
      ]
     },
     "execution_count": 23,
     "metadata": {},
     "output_type": "execute_result"
    }
   ],
   "source": [
    "purchased_customers=pd.concat([non_guests,guests],axis=0,ignore_index=True)\n",
    "print(purchased_customers.shape)\n",
    "purchased_customers.tail()"
   ]
  },
  {
   "cell_type": "code",
   "execution_count": 24,
   "metadata": {},
   "outputs": [
    {
     "data": {
      "text/html": [
       "<div>\n",
       "<style scoped>\n",
       "    .dataframe tbody tr th:only-of-type {\n",
       "        vertical-align: middle;\n",
       "    }\n",
       "\n",
       "    .dataframe tbody tr th {\n",
       "        vertical-align: top;\n",
       "    }\n",
       "\n",
       "    .dataframe thead th {\n",
       "        text-align: right;\n",
       "    }\n",
       "</style>\n",
       "<table border=\"1\" class=\"dataframe\">\n",
       "  <thead>\n",
       "    <tr style=\"text-align: right;\">\n",
       "      <th></th>\n",
       "      <th>customer_id</th>\n",
       "      <th>guest_first_name</th>\n",
       "      <th>guest_surname</th>\n",
       "      <th>guest_postcode</th>\n",
       "      <th>is_guest</th>\n",
       "    </tr>\n",
       "  </thead>\n",
       "  <tbody>\n",
       "    <tr>\n",
       "      <th>33256</th>\n",
       "      <td>NaN</td>\n",
       "      <td>POPPY</td>\n",
       "      <td>FOSTER</td>\n",
       "      <td>M192EQ</td>\n",
       "      <td>True</td>\n",
       "    </tr>\n",
       "    <tr>\n",
       "      <th>33257</th>\n",
       "      <td>NaN</td>\n",
       "      <td>SOPHIE</td>\n",
       "      <td>CHAPMAN</td>\n",
       "      <td>NW500AS</td>\n",
       "      <td>True</td>\n",
       "    </tr>\n",
       "    <tr>\n",
       "      <th>33258</th>\n",
       "      <td>NaN</td>\n",
       "      <td>SCARLETT</td>\n",
       "      <td>SHAW</td>\n",
       "      <td>EX86QS</td>\n",
       "      <td>True</td>\n",
       "    </tr>\n",
       "    <tr>\n",
       "      <th>33259</th>\n",
       "      <td>NaN</td>\n",
       "      <td>MICHAEL</td>\n",
       "      <td>HARRISON</td>\n",
       "      <td>HR280TG</td>\n",
       "      <td>True</td>\n",
       "    </tr>\n",
       "    <tr>\n",
       "      <th>33260</th>\n",
       "      <td>NaN</td>\n",
       "      <td>SKYE</td>\n",
       "      <td>GREEN</td>\n",
       "      <td>HR478ER</td>\n",
       "      <td>True</td>\n",
       "    </tr>\n",
       "  </tbody>\n",
       "</table>\n",
       "</div>"
      ],
      "text/plain": [
       "       customer_id guest_first_name guest_surname guest_postcode is_guest\n",
       "33256          NaN            POPPY        FOSTER         M192EQ     True\n",
       "33257          NaN           SOPHIE       CHAPMAN        NW500AS     True\n",
       "33258          NaN         SCARLETT          SHAW         EX86QS     True\n",
       "33259          NaN          MICHAEL      HARRISON        HR280TG     True\n",
       "33260          NaN             SKYE         GREEN        HR478ER     True"
      ]
     },
     "execution_count": 24,
     "metadata": {},
     "output_type": "execute_result"
    }
   ],
   "source": [
    "purchased_customers['is_guest']=purchased_customers['is_guest'].fillna(False)\n",
    "purchased_customers.tail()"
   ]
  },
  {
   "cell_type": "code",
   "execution_count": 25,
   "metadata": {},
   "outputs": [
    {
     "data": {
      "text/html": [
       "<div>\n",
       "<style scoped>\n",
       "    .dataframe tbody tr th:only-of-type {\n",
       "        vertical-align: middle;\n",
       "    }\n",
       "\n",
       "    .dataframe tbody tr th {\n",
       "        vertical-align: top;\n",
       "    }\n",
       "\n",
       "    .dataframe thead th {\n",
       "        text-align: right;\n",
       "    }\n",
       "</style>\n",
       "<table border=\"1\" class=\"dataframe\">\n",
       "  <thead>\n",
       "    <tr style=\"text-align: right;\">\n",
       "      <th></th>\n",
       "      <th>customer_id</th>\n",
       "      <th>first_name</th>\n",
       "      <th>surname</th>\n",
       "      <th>postcode</th>\n",
       "      <th>is_guest</th>\n",
       "    </tr>\n",
       "  </thead>\n",
       "  <tbody>\n",
       "    <tr>\n",
       "      <th>0</th>\n",
       "      <td>7466.0</td>\n",
       "      <td>NaN</td>\n",
       "      <td>NaN</td>\n",
       "      <td>NaN</td>\n",
       "      <td>False</td>\n",
       "    </tr>\n",
       "    <tr>\n",
       "      <th>1</th>\n",
       "      <td>31266.0</td>\n",
       "      <td>NaN</td>\n",
       "      <td>NaN</td>\n",
       "      <td>NaN</td>\n",
       "      <td>False</td>\n",
       "    </tr>\n",
       "    <tr>\n",
       "      <th>2</th>\n",
       "      <td>534142828.0</td>\n",
       "      <td>NaN</td>\n",
       "      <td>NaN</td>\n",
       "      <td>NaN</td>\n",
       "      <td>False</td>\n",
       "    </tr>\n",
       "    <tr>\n",
       "      <th>3</th>\n",
       "      <td>1035.0</td>\n",
       "      <td>NaN</td>\n",
       "      <td>NaN</td>\n",
       "      <td>NaN</td>\n",
       "      <td>False</td>\n",
       "    </tr>\n",
       "    <tr>\n",
       "      <th>4</th>\n",
       "      <td>6985.0</td>\n",
       "      <td>NaN</td>\n",
       "      <td>NaN</td>\n",
       "      <td>NaN</td>\n",
       "      <td>False</td>\n",
       "    </tr>\n",
       "  </tbody>\n",
       "</table>\n",
       "</div>"
      ],
      "text/plain": [
       "   customer_id first_name surname postcode is_guest\n",
       "0       7466.0        NaN     NaN      NaN    False\n",
       "1      31266.0        NaN     NaN      NaN    False\n",
       "2  534142828.0        NaN     NaN      NaN    False\n",
       "3       1035.0        NaN     NaN      NaN    False\n",
       "4       6985.0        NaN     NaN      NaN    False"
      ]
     },
     "execution_count": 25,
     "metadata": {},
     "output_type": "execute_result"
    }
   ],
   "source": [
    "#change the column name to be consistent with the CRM data\n",
    "new_column_name=['customer_id','first_name','surname','postcode','is_guest']\n",
    "purchased_customers=purchased_customers.set_axis(new_column_name,axis=1)\n",
    "purchased_customers.head()"
   ]
  },
  {
   "cell_type": "code",
   "execution_count": 26,
   "metadata": {},
   "outputs": [
    {
     "data": {
      "text/html": [
       "<div>\n",
       "<style scoped>\n",
       "    .dataframe tbody tr th:only-of-type {\n",
       "        vertical-align: middle;\n",
       "    }\n",
       "\n",
       "    .dataframe tbody tr th {\n",
       "        vertical-align: top;\n",
       "    }\n",
       "\n",
       "    .dataframe thead th {\n",
       "        text-align: right;\n",
       "    }\n",
       "</style>\n",
       "<table border=\"1\" class=\"dataframe\">\n",
       "  <thead>\n",
       "    <tr style=\"text-align: right;\">\n",
       "      <th></th>\n",
       "      <th>customer_id</th>\n",
       "      <th>first_name</th>\n",
       "      <th>surname</th>\n",
       "      <th>postcode</th>\n",
       "      <th>is_guest</th>\n",
       "      <th>in_purchase_data</th>\n",
       "    </tr>\n",
       "  </thead>\n",
       "  <tbody>\n",
       "    <tr>\n",
       "      <th>0</th>\n",
       "      <td>7466.0</td>\n",
       "      <td>NaN</td>\n",
       "      <td>NaN</td>\n",
       "      <td>NaN</td>\n",
       "      <td>False</td>\n",
       "      <td>True</td>\n",
       "    </tr>\n",
       "    <tr>\n",
       "      <th>1</th>\n",
       "      <td>31266.0</td>\n",
       "      <td>NaN</td>\n",
       "      <td>NaN</td>\n",
       "      <td>NaN</td>\n",
       "      <td>False</td>\n",
       "      <td>True</td>\n",
       "    </tr>\n",
       "    <tr>\n",
       "      <th>2</th>\n",
       "      <td>534142828.0</td>\n",
       "      <td>NaN</td>\n",
       "      <td>NaN</td>\n",
       "      <td>NaN</td>\n",
       "      <td>False</td>\n",
       "      <td>True</td>\n",
       "    </tr>\n",
       "    <tr>\n",
       "      <th>3</th>\n",
       "      <td>1035.0</td>\n",
       "      <td>NaN</td>\n",
       "      <td>NaN</td>\n",
       "      <td>NaN</td>\n",
       "      <td>False</td>\n",
       "      <td>True</td>\n",
       "    </tr>\n",
       "    <tr>\n",
       "      <th>4</th>\n",
       "      <td>6985.0</td>\n",
       "      <td>NaN</td>\n",
       "      <td>NaN</td>\n",
       "      <td>NaN</td>\n",
       "      <td>False</td>\n",
       "      <td>True</td>\n",
       "    </tr>\n",
       "  </tbody>\n",
       "</table>\n",
       "</div>"
      ],
      "text/plain": [
       "   customer_id first_name surname postcode is_guest  in_purchase_data\n",
       "0       7466.0        NaN     NaN      NaN    False              True\n",
       "1      31266.0        NaN     NaN      NaN    False              True\n",
       "2  534142828.0        NaN     NaN      NaN    False              True\n",
       "3       1035.0        NaN     NaN      NaN    False              True\n",
       "4       6985.0        NaN     NaN      NaN    False              True"
      ]
     },
     "execution_count": 26,
     "metadata": {},
     "output_type": "execute_result"
    }
   ],
   "source": [
    "purchased_customers['in_purchase_data']=True\n",
    "purchased_customers.head()"
   ]
  },
  {
   "cell_type": "code",
   "execution_count": 27,
   "metadata": {},
   "outputs": [
    {
     "data": {
      "text/html": [
       "<div>\n",
       "<style scoped>\n",
       "    .dataframe tbody tr th:only-of-type {\n",
       "        vertical-align: middle;\n",
       "    }\n",
       "\n",
       "    .dataframe tbody tr th {\n",
       "        vertical-align: top;\n",
       "    }\n",
       "\n",
       "    .dataframe thead th {\n",
       "        text-align: right;\n",
       "    }\n",
       "</style>\n",
       "<table border=\"1\" class=\"dataframe\">\n",
       "  <thead>\n",
       "    <tr style=\"text-align: right;\">\n",
       "      <th></th>\n",
       "      <th>customer_id</th>\n",
       "      <th>first_name</th>\n",
       "      <th>surname</th>\n",
       "      <th>postcode</th>\n",
       "      <th>is_guest</th>\n",
       "      <th>in_purchase_data</th>\n",
       "    </tr>\n",
       "  </thead>\n",
       "  <tbody>\n",
       "    <tr>\n",
       "      <th>0</th>\n",
       "      <td>7466.0</td>\n",
       "      <td>NaN</td>\n",
       "      <td>NaN</td>\n",
       "      <td>NaN</td>\n",
       "      <td>False</td>\n",
       "      <td>True</td>\n",
       "    </tr>\n",
       "    <tr>\n",
       "      <th>1</th>\n",
       "      <td>31266.0</td>\n",
       "      <td>NaN</td>\n",
       "      <td>NaN</td>\n",
       "      <td>NaN</td>\n",
       "      <td>False</td>\n",
       "      <td>True</td>\n",
       "    </tr>\n",
       "    <tr>\n",
       "      <th>2</th>\n",
       "      <td>534142828.0</td>\n",
       "      <td>NaN</td>\n",
       "      <td>NaN</td>\n",
       "      <td>NaN</td>\n",
       "      <td>False</td>\n",
       "      <td>True</td>\n",
       "    </tr>\n",
       "    <tr>\n",
       "      <th>3</th>\n",
       "      <td>1035.0</td>\n",
       "      <td>NaN</td>\n",
       "      <td>NaN</td>\n",
       "      <td>NaN</td>\n",
       "      <td>False</td>\n",
       "      <td>True</td>\n",
       "    </tr>\n",
       "    <tr>\n",
       "      <th>4</th>\n",
       "      <td>6985.0</td>\n",
       "      <td>NaN</td>\n",
       "      <td>NaN</td>\n",
       "      <td>NaN</td>\n",
       "      <td>False</td>\n",
       "      <td>True</td>\n",
       "    </tr>\n",
       "    <tr>\n",
       "      <th>...</th>\n",
       "      <td>...</td>\n",
       "      <td>...</td>\n",
       "      <td>...</td>\n",
       "      <td>...</td>\n",
       "      <td>...</td>\n",
       "      <td>...</td>\n",
       "    </tr>\n",
       "    <tr>\n",
       "      <th>33256</th>\n",
       "      <td>NaN</td>\n",
       "      <td>poppy</td>\n",
       "      <td>foster</td>\n",
       "      <td>M192EQ</td>\n",
       "      <td>True</td>\n",
       "      <td>True</td>\n",
       "    </tr>\n",
       "    <tr>\n",
       "      <th>33257</th>\n",
       "      <td>NaN</td>\n",
       "      <td>sophie</td>\n",
       "      <td>chapman</td>\n",
       "      <td>NW500AS</td>\n",
       "      <td>True</td>\n",
       "      <td>True</td>\n",
       "    </tr>\n",
       "    <tr>\n",
       "      <th>33258</th>\n",
       "      <td>NaN</td>\n",
       "      <td>scarlett</td>\n",
       "      <td>shaw</td>\n",
       "      <td>EX86QS</td>\n",
       "      <td>True</td>\n",
       "      <td>True</td>\n",
       "    </tr>\n",
       "    <tr>\n",
       "      <th>33259</th>\n",
       "      <td>NaN</td>\n",
       "      <td>michael</td>\n",
       "      <td>harrison</td>\n",
       "      <td>HR280TG</td>\n",
       "      <td>True</td>\n",
       "      <td>True</td>\n",
       "    </tr>\n",
       "    <tr>\n",
       "      <th>33260</th>\n",
       "      <td>NaN</td>\n",
       "      <td>skye</td>\n",
       "      <td>green</td>\n",
       "      <td>HR478ER</td>\n",
       "      <td>True</td>\n",
       "      <td>True</td>\n",
       "    </tr>\n",
       "  </tbody>\n",
       "</table>\n",
       "<p>33261 rows × 6 columns</p>\n",
       "</div>"
      ],
      "text/plain": [
       "       customer_id first_name   surname postcode is_guest  in_purchase_data\n",
       "0           7466.0        NaN       NaN      NaN    False              True\n",
       "1          31266.0        NaN       NaN      NaN    False              True\n",
       "2      534142828.0        NaN       NaN      NaN    False              True\n",
       "3           1035.0        NaN       NaN      NaN    False              True\n",
       "4           6985.0        NaN       NaN      NaN    False              True\n",
       "...            ...        ...       ...      ...      ...               ...\n",
       "33256          NaN      poppy    foster   M192EQ     True              True\n",
       "33257          NaN     sophie   chapman  NW500AS     True              True\n",
       "33258          NaN   scarlett      shaw   EX86QS     True              True\n",
       "33259          NaN    michael  harrison  HR280TG     True              True\n",
       "33260          NaN       skye     green  HR478ER     True              True\n",
       "\n",
       "[33261 rows x 6 columns]"
      ]
     },
     "execution_count": 27,
     "metadata": {},
     "output_type": "execute_result"
    }
   ],
   "source": [
    "for col in ['first_name','surname']:\n",
    "    purchased_customers[col]=purchased_customers[col].str.lower().str.strip()\n",
    "purchased_customers['postcode']=purchased_customers['postcode'].str.strip()\n",
    "purchased_customers"
   ]
  },
  {
   "cell_type": "markdown",
   "metadata": {},
   "source": [
    "If we look at the purchased data, there are register customer with no names ,and missing customer id. So, we can check those whether they exit in crm and e-commerence data base or not."
   ]
  },
  {
   "cell_type": "code",
   "execution_count": 28,
   "metadata": {},
   "outputs": [
    {
     "data": {
      "text/plain": [
       "Series([], dtype: int64)"
      ]
     },
     "execution_count": 28,
     "metadata": {},
     "output_type": "execute_result"
    }
   ],
   "source": [
    "data_from_crm.groupby('customer_id').size().loc[lambda x:x>1]"
   ]
  },
  {
   "cell_type": "markdown",
   "metadata": {},
   "source": [
    "Here we use groupby and size to count how many records we have per customer ID and use loc to filter instances where there is more than one. The Python output is Series([], dtype: int64), which indicates no records were found, as the empty square brackets represent an empty collection in Python. This means **customer IDs are indeed unique.**"
   ]
  },
  {
   "cell_type": "code",
   "execution_count": 29,
   "metadata": {},
   "outputs": [
    {
     "name": "stdout",
     "output_type": "stream",
     "text": [
      "7825\n",
      "7419\n"
     ]
    }
   ],
   "source": [
    "print(len(data_from_crm))\n",
    "print(len(data_from_crm.drop(columns=\"customer_id\").drop_duplicates()))"
   ]
  },
  {
   "cell_type": "markdown",
   "metadata": {},
   "source": [
    "The output is 7,825 and 7,419, respectively, meaning that while there are 7,825 rows in the CRM data, there are only 7,419 unique combinations of columns once we drop the customer ID, which indicates we have about 400 duplicate customer details where the same information is spread across multiple IDs. This might not mean 400 duplicate customers because we could also have multiple people with very common names living at the same postcode, but because we have also factored age into it, it is more likely these are all redundant duplicates. Incorrect duplicates, if there are any, are ***likely to be a very small percentage*** when we consider the size of the dataset, so it makes sense not to dwell on this, and for now,"
   ]
  },
  {
   "cell_type": "code",
   "execution_count": 30,
   "metadata": {},
   "outputs": [
    {
     "name": "stdout",
     "output_type": "stream",
     "text": [
      "(33261, 10)\n"
     ]
    },
    {
     "data": {
      "text/html": [
       "<div>\n",
       "<style scoped>\n",
       "    .dataframe tbody tr th:only-of-type {\n",
       "        vertical-align: middle;\n",
       "    }\n",
       "\n",
       "    .dataframe tbody tr th {\n",
       "        vertical-align: top;\n",
       "    }\n",
       "\n",
       "    .dataframe thead th {\n",
       "        text-align: right;\n",
       "    }\n",
       "</style>\n",
       "<table border=\"1\" class=\"dataframe\">\n",
       "  <thead>\n",
       "    <tr style=\"text-align: right;\">\n",
       "      <th></th>\n",
       "      <th>customer_id</th>\n",
       "      <th>first_name_purchase</th>\n",
       "      <th>surname_purchase</th>\n",
       "      <th>postcode_purchase</th>\n",
       "      <th>is_guest</th>\n",
       "      <th>in_purchase_data</th>\n",
       "      <th>first_name_crm</th>\n",
       "      <th>surname_crm</th>\n",
       "      <th>postcode_crm</th>\n",
       "      <th>age</th>\n",
       "    </tr>\n",
       "  </thead>\n",
       "  <tbody>\n",
       "    <tr>\n",
       "      <th>0</th>\n",
       "      <td>7466.0</td>\n",
       "      <td>NaN</td>\n",
       "      <td>NaN</td>\n",
       "      <td>NaN</td>\n",
       "      <td>False</td>\n",
       "      <td>True</td>\n",
       "      <td>NaN</td>\n",
       "      <td>NaN</td>\n",
       "      <td>NaN</td>\n",
       "      <td>NaN</td>\n",
       "    </tr>\n",
       "    <tr>\n",
       "      <th>1</th>\n",
       "      <td>31266.0</td>\n",
       "      <td>NaN</td>\n",
       "      <td>NaN</td>\n",
       "      <td>NaN</td>\n",
       "      <td>False</td>\n",
       "      <td>True</td>\n",
       "      <td>Harley</td>\n",
       "      <td>Palmer</td>\n",
       "      <td>HR250EJ</td>\n",
       "      <td>33.0</td>\n",
       "    </tr>\n",
       "    <tr>\n",
       "      <th>2</th>\n",
       "      <td>534142828.0</td>\n",
       "      <td>NaN</td>\n",
       "      <td>NaN</td>\n",
       "      <td>NaN</td>\n",
       "      <td>False</td>\n",
       "      <td>True</td>\n",
       "      <td>NaN</td>\n",
       "      <td>NaN</td>\n",
       "      <td>NaN</td>\n",
       "      <td>NaN</td>\n",
       "    </tr>\n",
       "    <tr>\n",
       "      <th>3</th>\n",
       "      <td>1035.0</td>\n",
       "      <td>NaN</td>\n",
       "      <td>NaN</td>\n",
       "      <td>NaN</td>\n",
       "      <td>False</td>\n",
       "      <td>True</td>\n",
       "      <td>NaN</td>\n",
       "      <td>NaN</td>\n",
       "      <td>NaN</td>\n",
       "      <td>NaN</td>\n",
       "    </tr>\n",
       "    <tr>\n",
       "      <th>4</th>\n",
       "      <td>6985.0</td>\n",
       "      <td>NaN</td>\n",
       "      <td>NaN</td>\n",
       "      <td>NaN</td>\n",
       "      <td>False</td>\n",
       "      <td>True</td>\n",
       "      <td>NaN</td>\n",
       "      <td>NaN</td>\n",
       "      <td>NaN</td>\n",
       "      <td>NaN</td>\n",
       "    </tr>\n",
       "  </tbody>\n",
       "</table>\n",
       "</div>"
      ],
      "text/plain": [
       "   customer_id first_name_purchase surname_purchase postcode_purchase  \\\n",
       "0       7466.0                 NaN              NaN               NaN   \n",
       "1      31266.0                 NaN              NaN               NaN   \n",
       "2  534142828.0                 NaN              NaN               NaN   \n",
       "3       1035.0                 NaN              NaN               NaN   \n",
       "4       6985.0                 NaN              NaN               NaN   \n",
       "\n",
       "  is_guest  in_purchase_data first_name_crm surname_crm postcode_crm   age  \n",
       "0    False              True            NaN         NaN          NaN   NaN  \n",
       "1    False              True         Harley      Palmer      HR250EJ  33.0  \n",
       "2    False              True            NaN         NaN          NaN   NaN  \n",
       "3    False              True            NaN         NaN          NaN   NaN  \n",
       "4    False              True            NaN         NaN          NaN   NaN  "
      ]
     },
     "execution_count": 30,
     "metadata": {},
     "output_type": "execute_result"
    }
   ],
   "source": [
    "purchase_and_crm_data=purchased_customers.merge(data_from_crm,on='customer_id',how='left',suffixes=('_purchase','_crm'))\n",
    "print(purchase_and_crm_data.shape)\n",
    "purchase_and_crm_data.head()"
   ]
  },
  {
   "cell_type": "code",
   "execution_count": 31,
   "metadata": {},
   "outputs": [
    {
     "data": {
      "text/html": [
       "<div>\n",
       "<style scoped>\n",
       "    .dataframe tbody tr th:only-of-type {\n",
       "        vertical-align: middle;\n",
       "    }\n",
       "\n",
       "    .dataframe tbody tr th {\n",
       "        vertical-align: top;\n",
       "    }\n",
       "\n",
       "    .dataframe thead th {\n",
       "        text-align: right;\n",
       "    }\n",
       "</style>\n",
       "<table border=\"1\" class=\"dataframe\">\n",
       "  <thead>\n",
       "    <tr style=\"text-align: right;\">\n",
       "      <th></th>\n",
       "      <th>customer_id</th>\n",
       "      <th>first_name_purchase</th>\n",
       "      <th>surname_purchase</th>\n",
       "      <th>postcode_purchase</th>\n",
       "      <th>is_guest</th>\n",
       "      <th>in_purchase_data</th>\n",
       "      <th>first_name_crm</th>\n",
       "      <th>surname_crm</th>\n",
       "      <th>postcode_crm</th>\n",
       "      <th>age</th>\n",
       "      <th>in_crm_data</th>\n",
       "    </tr>\n",
       "  </thead>\n",
       "  <tbody>\n",
       "    <tr>\n",
       "      <th>0</th>\n",
       "      <td>7466.0</td>\n",
       "      <td>NaN</td>\n",
       "      <td>NaN</td>\n",
       "      <td>NaN</td>\n",
       "      <td>False</td>\n",
       "      <td>True</td>\n",
       "      <td>NaN</td>\n",
       "      <td>NaN</td>\n",
       "      <td>NaN</td>\n",
       "      <td>NaN</td>\n",
       "      <td>False</td>\n",
       "    </tr>\n",
       "    <tr>\n",
       "      <th>1</th>\n",
       "      <td>31266.0</td>\n",
       "      <td>NaN</td>\n",
       "      <td>NaN</td>\n",
       "      <td>NaN</td>\n",
       "      <td>False</td>\n",
       "      <td>True</td>\n",
       "      <td>Harley</td>\n",
       "      <td>Palmer</td>\n",
       "      <td>HR250EJ</td>\n",
       "      <td>33.0</td>\n",
       "      <td>True</td>\n",
       "    </tr>\n",
       "    <tr>\n",
       "      <th>2</th>\n",
       "      <td>534142828.0</td>\n",
       "      <td>NaN</td>\n",
       "      <td>NaN</td>\n",
       "      <td>NaN</td>\n",
       "      <td>False</td>\n",
       "      <td>True</td>\n",
       "      <td>NaN</td>\n",
       "      <td>NaN</td>\n",
       "      <td>NaN</td>\n",
       "      <td>NaN</td>\n",
       "      <td>False</td>\n",
       "    </tr>\n",
       "    <tr>\n",
       "      <th>3</th>\n",
       "      <td>1035.0</td>\n",
       "      <td>NaN</td>\n",
       "      <td>NaN</td>\n",
       "      <td>NaN</td>\n",
       "      <td>False</td>\n",
       "      <td>True</td>\n",
       "      <td>NaN</td>\n",
       "      <td>NaN</td>\n",
       "      <td>NaN</td>\n",
       "      <td>NaN</td>\n",
       "      <td>False</td>\n",
       "    </tr>\n",
       "    <tr>\n",
       "      <th>4</th>\n",
       "      <td>6985.0</td>\n",
       "      <td>NaN</td>\n",
       "      <td>NaN</td>\n",
       "      <td>NaN</td>\n",
       "      <td>False</td>\n",
       "      <td>True</td>\n",
       "      <td>NaN</td>\n",
       "      <td>NaN</td>\n",
       "      <td>NaN</td>\n",
       "      <td>NaN</td>\n",
       "      <td>False</td>\n",
       "    </tr>\n",
       "  </tbody>\n",
       "</table>\n",
       "</div>"
      ],
      "text/plain": [
       "   customer_id first_name_purchase surname_purchase postcode_purchase  \\\n",
       "0       7466.0                 NaN              NaN               NaN   \n",
       "1      31266.0                 NaN              NaN               NaN   \n",
       "2  534142828.0                 NaN              NaN               NaN   \n",
       "3       1035.0                 NaN              NaN               NaN   \n",
       "4       6985.0                 NaN              NaN               NaN   \n",
       "\n",
       "  is_guest  in_purchase_data first_name_crm surname_crm postcode_crm   age  \\\n",
       "0    False              True            NaN         NaN          NaN   NaN   \n",
       "1    False              True         Harley      Palmer      HR250EJ  33.0   \n",
       "2    False              True            NaN         NaN          NaN   NaN   \n",
       "3    False              True            NaN         NaN          NaN   NaN   \n",
       "4    False              True            NaN         NaN          NaN   NaN   \n",
       "\n",
       "   in_crm_data  \n",
       "0        False  \n",
       "1         True  \n",
       "2        False  \n",
       "3        False  \n",
       "4        False  "
      ]
     },
     "execution_count": 31,
     "metadata": {},
     "output_type": "execute_result"
    }
   ],
   "source": [
    "purchase_and_crm_data['in_crm_data']=purchase_and_crm_data['age'].notnull()\n",
    "purchase_and_crm_data.head()"
   ]
  },
  {
   "cell_type": "code",
   "execution_count": 32,
   "metadata": {},
   "outputs": [],
   "source": [
    "# Create a boolean mask that selects rows where:\n",
    "# - 'in_crm_data' is True, and\n",
    "# - either 'first_name_purchase' or 'surname_purchase' or 'postal_code' is missing.\n",
    "mask = (purchase_and_crm_data['in_crm_data'] == True) & (\n",
    "    purchase_and_crm_data['first_name_purchase'].isna() | purchase_and_crm_data['surname_purchase'].isna() | purchase_and_crm_data['postcode_purchase'].isna()\n",
    ")\n",
    "\n",
    "# Update the 'first_name_purchase' and 'surname_purchase' columns for those rows\n",
    "purchase_and_crm_data.loc[mask, 'first_name_purchase'] = purchase_and_crm_data.loc[mask, 'first_name_crm']\n",
    "purchase_and_crm_data.loc[mask, 'surname_purchase'] = purchase_and_crm_data.loc[mask, 'surname_crm']\n",
    "\n",
    "# Drop the 'first_name_crm', 'surname_crm', and 'postcode_crm' columns\n",
    "purchase_and_crm_data.drop(columns=['first_name_crm', 'surname_crm', 'postcode_crm'], inplace=True)"
   ]
  },
  {
   "cell_type": "code",
   "execution_count": 33,
   "metadata": {},
   "outputs": [],
   "source": [
    "purchase_and_crm_data['first_name_purchase']=purchase_and_crm_data['first_name_purchase'].str.lower().str.strip()\n",
    "purchase_and_crm_data['surname_purchase']=purchase_and_crm_data['surname_purchase'].str.lower().str.strip()\n",
    "purchase_and_crm_data['postcode_purchase']=purchase_and_crm_data['postcode_purchase'].str.strip()"
   ]
  },
  {
   "cell_type": "code",
   "execution_count": 34,
   "metadata": {},
   "outputs": [
    {
     "data": {
      "text/plain": [
       "in_crm_data\n",
       "False    26147\n",
       "True      7114\n",
       "Name: count, dtype: int64"
      ]
     },
     "execution_count": 34,
     "metadata": {},
     "output_type": "execute_result"
    }
   ],
   "source": [
    "purchase_and_crm_data.rename(columns={'first_name_purchase':'first_name',\n",
    "                                      'surname_purchase':'surname',\n",
    "                                      'postcode_purchase':'postcode'},inplace=True)\n",
    "purchase_and_crm_data['in_crm_data'].value_counts()"
   ]
  },
  {
   "cell_type": "markdown",
   "metadata": {},
   "source": [
    "What remains is to check for and add customer details that exist in our CRM system but do not appear in our purchases.There may be reasons for this;\n",
    "perhaps those customers bought something on the phone, and those sales do not get recorded in the same place. Whatever the reason, it is a possibility that we need to\n",
    "account for to ensure full coverage."
   ]
  },
  {
   "cell_type": "code",
   "execution_count": 35,
   "metadata": {},
   "outputs": [
    {
     "data": {
      "text/plain": [
       "711"
      ]
     },
     "execution_count": 35,
     "metadata": {},
     "output_type": "execute_result"
    }
   ],
   "source": [
    "crm_to_add=list(set(data_from_crm['customer_id'].unique())-set(purchase_and_crm_data['customer_id'].unique()))\n",
    "len(crm_to_add)"
   ]
  },
  {
   "cell_type": "code",
   "execution_count": 36,
   "metadata": {},
   "outputs": [
    {
     "data": {
      "text/plain": [
       "in_crm_data\n",
       "False    26147\n",
       "True      7825\n",
       "Name: count, dtype: int64"
      ]
     },
     "execution_count": 36,
     "metadata": {},
     "output_type": "execute_result"
    }
   ],
   "source": [
    "purchase_and_crm_data=pd.concat([purchase_and_crm_data,data_from_crm[data_from_crm['customer_id'].isin(crm_to_add)]],axis=0,ignore_index=True)\n",
    "\n",
    "purchase_and_crm_data['is_guest']=purchase_and_crm_data['is_guest'].fillna(False)\n",
    "\n",
    "purchase_and_crm_data['in_purchase_data'] = purchase_and_crm_data['in_purchase_data'].fillna(False)\n",
    "\n",
    "purchase_and_crm_data.loc[\n",
    "    purchase_and_crm_data['customer_id'].isin(crm_to_add), 'in_crm_data'\n",
    "] = True\n",
    "\n",
    "\n",
    "purchase_and_crm_data['in_crm_data'].value_counts()"
   ]
  },
  {
   "cell_type": "code",
   "execution_count": null,
   "metadata": {},
   "outputs": [],
   "source": []
  },
  {
   "cell_type": "code",
   "execution_count": null,
   "metadata": {},
   "outputs": [],
   "source": []
  }
 ],
 "metadata": {
  "kernelspec": {
   "display_name": ".venv",
   "language": "python",
   "name": "python3"
  },
  "language_info": {
   "codemirror_mode": {
    "name": "ipython",
    "version": 3
   },
   "file_extension": ".py",
   "mimetype": "text/x-python",
   "name": "python",
   "nbconvert_exporter": "python",
   "pygments_lexer": "ipython3",
   "version": "3.11.7"
  }
 },
 "nbformat": 4,
 "nbformat_minor": 2
}
